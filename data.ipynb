{
 "cells": [
  {
   "cell_type": "code",
   "execution_count": null,
   "metadata": {},
   "outputs": [],
   "source": [
    "import numpy as np\n",
    "import pandas as pd\n",
    "import matplotlib.pyplot as plt\n",
    "import seaborn as sns\n",
    "from scipy.stats import pearsonr\n",
    "from sklearn.linear_model import LinearRegression\n",
    "from numpy import polynomial as P\n",
    "import os"
   ]
  },
  {
   "cell_type": "markdown",
   "metadata": {},
   "source": [
    "# XLSX to CSV"
   ]
  },
  {
   "cell_type": "code",
   "execution_count": null,
   "metadata": {},
   "outputs": [],
   "source": [
    "# df=pd.DataFrame(pd.read_excel('/Users/sunbu/Desktop/math/data/raw/Dataset.xlsx', sheet_name='VA SL'))\n",
    "# df.to_csv('/Users/sunbu/Desktop/math/data/processed/va_sl.csv', index = True)"
   ]
  },
  {
   "cell_type": "markdown",
   "metadata": {},
   "source": [
    "# Diagram"
   ]
  },
  {
   "cell_type": "code",
   "execution_count": null,
   "metadata": {},
   "outputs": [],
   "source": [
    "directory = '/Users/sunbu/Desktop/math/data/processed'\n",
    "files = os.listdir(directory)\n",
    "dict = {}\n",
    "# dataframes = []\n",
    "# for file in files:\n",
    "#     if file.endswith(\".csv\"):\n",
    "#         filepath = os.path.join(directory, file)\n",
    "#         df = pd.read_csv(filepath)\n",
    "#         df.dropna(axis=0)\n",
    "#         dataframes.append(df)"
   ]
  },
  {
   "cell_type": "code",
   "execution_count": null,
   "metadata": {},
   "outputs": [],
   "source": [
    "mean_array = np.empty([0,2], dtype = float)\n",
    "\n",
    "for file in files:\n",
    "    if file.endswith(\".csv\"):\n",
    "        filepath = os.path.join(directory, file)\n",
    "        df = pd.read_csv(filepath)\n",
    "        df = df.dropna(axis=0)\n",
    "        dict[file] = df\n",
    "\n",
    "        new_row = np.empty([1,2], dtype = float)\n",
    "        new_row[0][0] = df.iloc[:, 1].mean()\n",
    "        new_row[0][1] = df.shape[0]\n",
    "        mean_array = np.concatenate((mean_array, new_row), axis=0)"
   ]
  },
  {
   "cell_type": "code",
   "execution_count": null,
   "metadata": {},
   "outputs": [],
   "source": [
    "for file in files:\n",
    "    if file.endswith(\".csv\"):\n",
    "        df = dict[file]\n",
    "\n",
    "        plt.figure(dpi=300)\n",
    "\n",
    "        plt.style.use('seaborn-v0_8-darkgrid')\n",
    "\n",
    "        # 绘制直方图\n",
    "        plt.hist(df.iloc[:, 1], bins=15)\n",
    "\n",
    "        title = file[:-4].replace('_', ' ').upper()\n",
    "\n",
    "        # 设置图表属性\n",
    "        plt.title(title)\n",
    "        plt.xlabel('Scaled Total Mark')\n",
    "        plt.ylabel('Frequency')\n",
    "\n",
    "        plt.savefig('/Users/sunbu/Desktop/math/img/1/' + file[:-3] + 'png', dpi=300)\n",
    "\n",
    "        # 显示图表\n",
    "        plt.show()"
   ]
  },
  {
   "cell_type": "code",
   "execution_count": null,
   "metadata": {},
   "outputs": [],
   "source": [
    "for file in files:\n",
    "    if file.endswith(\".csv\"):\n",
    "\n",
    "        print(\"    \\\\begin{minipage}[t]{0.49\\linewidth}\")\n",
    "        print(\"        \\centering\")\n",
    "        print(\"        \\includegraphics[width=0.9\\linewidth]{img/1/\" + file[:-3] + \"png}\")\n",
    "        print(\"        \\caption{Histogram of \" + file[:-4].replace('_', ' ').upper() + \"}\")\n",
    "        print(\"        \\label{histogram_\" + file[:-4] +\"}\")\n",
    "        print(\"        \\hspace{20mm}\")\n",
    "        print(\"    \\end{minipage}\")"
   ]
  },
  {
   "cell_type": "code",
   "execution_count": null,
   "metadata": {},
   "outputs": [],
   "source": [
    "# 计算Pearson相关系数\n",
    "correlation, p_value = pearsonr(mean_array[..., 0],mean_array[..., 1])\n",
    "\n",
    "print(f\"Pearson相关系数: {correlation}, p值: {p_value}\")"
   ]
  },
  {
   "cell_type": "code",
   "execution_count": null,
   "metadata": {},
   "outputs": [],
   "source": [
    "z = np.polyfit(mean_array[..., 0], mean_array[..., 1], 1)  # 1 表示一阶多项式，即最佳拟合线\n",
    "p = np.poly1d(z)\n",
    "\n",
    "plt.figure(dpi=300)\n",
    "\n",
    "plt.plot(mean_array[..., 0], mean_array[..., 1], 'o', label='Original Data')\n",
    "plt.plot(mean_array[..., 0], p(mean_array[..., 0]), '-', label='Best Fit Line')\n",
    "\n",
    "plt.legend()\n",
    "\n",
    "plt.title(\"Mean Scaled Total Mark vs. the Number of Students\")\n",
    "plt.xlabel('Mean Scaled Total Mark')\n",
    "plt.ylabel('The Number of Students')\n",
    "\n",
    "plt.savefig('/Users/sunbu/Desktop/math/img/3/output.png', dpi=300)\n",
    "\n",
    "plt.show()"
   ]
  },
  {
   "cell_type": "code",
   "execution_count": null,
   "metadata": {},
   "outputs": [],
   "source": [
    "for x in range(31):\n",
    "    for y in range(31):\n",
    "        if x < y:\n",
    "\n",
    "            subject1 = files[x]\n",
    "            subject2 = files[y]\n",
    "\n",
    "            if subject1.endswith(\".csv\") & subject2.endswith(\".csv\"):\n",
    "\n",
    "                i = 0\n",
    "\n",
    "                for student1 in range(dict[subject1].shape[0]):\n",
    "                    for student2 in range(dict[subject2].shape[0]):\n",
    "                        if dict[subject1].iloc[student1, 2] == dict[subject2].iloc[student2, 2]:\n",
    "                            i += 1\n",
    "\n",
    "                print(f\"Subject1: {subject1}, Subject2: {subject2}, Sum: {i}\")"
   ]
  },
  {
   "cell_type": "code",
   "execution_count": null,
   "metadata": {},
   "outputs": [],
   "source": [
    "for x in range(31):\n",
    "    for y in range(31):\n",
    "        if x < y:\n",
    "            file1 = files[x]\n",
    "            file2 = files[y]\n",
    "\n",
    "            sub1 = dict[file1]\n",
    "            sub2 = dict[file2]\n",
    "\n",
    "            compare_array = np.empty([0,2], dtype = float)\n",
    "\n",
    "            sum = 0\n",
    "\n",
    "            for student1 in range(sub1.shape[0]):\n",
    "                for student2 in range(sub2.shape[0]):\n",
    "                    if  sub1.iloc[student1, 2] == sub2.iloc[student2, 2]:\n",
    "                        sum += 1\n",
    "\n",
    "                        new_row = np.empty([1,2], dtype = float)\n",
    "\n",
    "                        new_row[0][0] = sub1.iloc[student1, 1]\n",
    "                        new_row[0][1] = sub2.iloc[student2, 1]\n",
    "                        compare_array = np.concatenate((compare_array, new_row), axis=0)\n",
    "\n",
    "            if(sum >= 2):\n",
    "                # 计算Pearson相关系数\n",
    "                correlation, p_value = pearsonr(compare_array[..., 0], compare_array[..., 1])\n",
    "                print(file1[:-4].replace('_', ' ').upper() + ' Scaled Total Mark' + ' vs. ' + file2[:-4].replace('_', ' ').upper() + ' Scaled Total Mark')\n",
    "                print(f\"Pearson相关系数: {correlation}, p值: {p_value}\")\n",
    "\n",
    "                plt.figure(dpi=300)\n",
    "\n",
    "                plt.scatter(compare_array[..., 0],compare_array[..., 1])\n",
    "\n",
    "                plt.title(file1[:-4].replace('_', ' ').upper() + ' Scaled Total Mark' + ' vs. ' + file2[:-4].replace('_', ' ').upper() + ' Scaled Total Mark')\n",
    "                plt.xlabel(file1[:-4].replace('_', ' ').upper() + ' Scaled Total Mark')\n",
    "                plt.ylabel(file2[:-4].replace('_', ' ').upper() + ' Scaled Total Mark')\n",
    "\n",
    "                plt.savefig('/Users/sunbu/Desktop/math/img/4/' + files[x] + '_vs_' + files[y] + '.png', dpi=300)\n",
    "\n",
    "                plt.show()"
   ]
  },
  {
   "cell_type": "code",
   "execution_count": null,
   "metadata": {},
   "outputs": [],
   "source": [
    "sub1 = dict[\"maa_hl.csv\"]\n",
    "sub2 = dict[\"ca_ll_sl.csv\"]\n",
    "compare_array = np.empty([0,2], dtype = float)\n",
    "\n",
    "for student1 in range(sub1.shape[0]):\n",
    "    for student2 in range(sub2.shape[0]):\n",
    "        if  sub1.iloc[student1, 2] == sub2.iloc[student2, 2]:\n",
    "            new_row = np.empty([1,2], dtype = float)\n",
    "\n",
    "            new_row[0][0] = sub1.iloc[student1, 1]\n",
    "            new_row[0][1] = sub2.iloc[student2, 1]\n",
    "            compare_array = np.concatenate((compare_array, new_row), axis=0)\n",
    "\n",
    "# 计算Pearson相关系数\n",
    "correlation, p_value = pearsonr(compare_array[..., 0], compare_array[..., 1])\n",
    "print(f\"Pearson相关系数: {correlation}, p值: {p_value}\")\n",
    "\n",
    "plt.figure(dpi=300)\n",
    "\n",
    "plt.scatter(compare_array[..., 0],compare_array[..., 1])\n",
    "\n",
    "plt.title(\"MAA HL vs. CA LL SL\")\n",
    "plt.xlabel('MAA HL')\n",
    "plt.ylabel('CA LL SL')\n",
    "\n",
    "plt.savefig('/Users/sunbu/Desktop/math/img/4/output.png', dpi=300)\n",
    "\n",
    "plt.show()"
   ]
  },
  {
   "cell_type": "code",
   "execution_count": null,
   "metadata": {},
   "outputs": [],
   "source": [
    "file_names = [file[: -4] for file in files]\n",
    "column_names = [file_names]\n",
    "students_mark = pd.DataFrame(columns = column_names)\n",
    "\n",
    "for file in files:\n",
    "    if file.endswith(\".csv\"):\n",
    "        using_df = dict[file]\n",
    "\n",
    "        for index in range(using_df.shape[0]):\n",
    "            sub = file[: -4]\n",
    "            name = using_df.iloc[index, 2]\n",
    "            mark = using_df.iloc[index, 1]\n",
    "            students_mark.loc[name, sub] = mark"
   ]
  },
  {
   "cell_type": "code",
   "execution_count": null,
   "metadata": {},
   "outputs": [],
   "source": [
    "students_mark.to_csv('/Users/sunbu/Desktop/math/data/output/students_mark.csv', index = True)"
   ]
  }
 ],
 "metadata": {
  "kernelspec": {
   "display_name": "math",
   "language": "python",
   "name": "python3"
  },
  "language_info": {
   "codemirror_mode": {
    "name": "ipython",
    "version": 3
   },
   "file_extension": ".py",
   "mimetype": "text/x-python",
   "name": "python",
   "nbconvert_exporter": "python",
   "pygments_lexer": "ipython3",
   "version": "3.9.19"
  }
 },
 "nbformat": 4,
 "nbformat_minor": 2
}
